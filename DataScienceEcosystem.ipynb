{
 "cells": [
  {
   "cell_type": "markdown",
   "id": "c4899fba-52fe-4178-be27-81229e1ba926",
   "metadata": {},
   "source": [
    "# Data Science Tools and Ecosystem"
   ]
  },
  {
   "cell_type": "markdown",
   "id": "513fbd5c-b122-410f-81c6-2285ec31f69f",
   "metadata": {},
   "source": [
    "## In this notebook, Data Science Tools and Ecosystem are summarized."
   ]
  },
  {
   "cell_type": "markdown",
   "id": "8f0d1173-1d39-472f-b0af-1a31af831a47",
   "metadata": {},
   "source": [
    "**Objectives:**\n",
    "+ List popular languages for data science\n",
    "+ List commonly used libraries by data scientists\n",
    "+ Show a few examples of evaluating arithmetic expressions in Python"
   ]
  },
  {
   "cell_type": "markdown",
   "id": "e4ff545f-a8c0-4554-b0a2-3683f64c40aa",
   "metadata": {},
   "source": [
    "### Some of the popular languages that Data Scientists use are:\n",
    "1. Julia\n",
    "2. Python\n",
    "3. R"
   ]
  },
  {
   "cell_type": "markdown",
   "id": "c2c3ecf2-1938-49a5-87d1-6925c0117955",
   "metadata": {},
   "source": [
    "### Some of the commonly used libraries used by Data Scientists include:\n",
    "1. SciPi\n",
    "2. NumPi\n",
    "3. Pandas"
   ]
  },
  {
   "cell_type": "markdown",
   "id": "6de5fa7f-4588-48ee-9212-1b86ad91342b",
   "metadata": {},
   "source": [
    "|Data Science Tools|\n",
    "------------------\n",
    "|Visual Studio Code|\n",
    "|R Studio|\n",
    "|Jupyter Notebooks|\n"
   ]
  },
  {
   "cell_type": "markdown",
   "id": "6c00bf86-b5c5-45e6-aa27-9e1bf8476c79",
   "metadata": {},
   "source": [
    "### Below are a few examples of evaluating arithmetic expressions in Python"
   ]
  },
  {
   "cell_type": "code",
   "execution_count": 1,
   "id": "86b73ef7-2c46-4022-af01-9567c78ead99",
   "metadata": {
    "tags": []
   },
   "outputs": [
    {
     "data": {
      "text/plain": [
       "17"
      ]
     },
     "execution_count": 1,
     "metadata": {},
     "output_type": "execute_result"
    }
   ],
   "source": [
    "#This a simple arithmetic expression to mutiply then add integers\n",
    "(3*4)+5"
   ]
  },
  {
   "cell_type": "code",
   "execution_count": 2,
   "id": "36f12743-7a90-4c7a-8f6d-c43aec471906",
   "metadata": {
    "tags": []
   },
   "outputs": [
    {
     "name": "stdout",
     "output_type": "stream",
     "text": [
      "3.3333333333333335\n"
     ]
    }
   ],
   "source": [
    "#This will convert 200 minutes to hours by diving by 60\n",
    "\n",
    "minutes = 200\n",
    "hours = minutes / 60\n",
    "\n",
    "print(hours)"
   ]
  },
  {
   "cell_type": "markdown",
   "id": "ce3d0d49-d650-40bc-a804-10a301d3acb0",
   "metadata": {},
   "source": [
    "## Author\n",
    "Dylan Kerr"
   ]
  },
  {
   "cell_type": "code",
   "execution_count": null,
   "id": "5c6f5cbc-5bf8-42b8-a2de-3a2a2b492b69",
   "metadata": {},
   "outputs": [],
   "source": []
  }
 ],
 "metadata": {
  "kernelspec": {
   "display_name": "Python",
   "language": "python",
   "name": "conda-env-python-py"
  },
  "language_info": {
   "codemirror_mode": {
    "name": "ipython",
    "version": 3
   },
   "file_extension": ".py",
   "mimetype": "text/x-python",
   "name": "python",
   "nbconvert_exporter": "python",
   "pygments_lexer": "ipython3",
   "version": "3.7.12"
  }
 },
 "nbformat": 4,
 "nbformat_minor": 5
}
